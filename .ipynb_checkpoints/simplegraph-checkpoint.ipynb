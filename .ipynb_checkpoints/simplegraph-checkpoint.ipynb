{
 "cells": [
  {
   "cell_type": "code",
   "execution_count": 10,
   "metadata": {},
   "outputs": [
    {
     "data": {
      "text/plain": [
       "[('blade_runner', 'directed_by', 'ridley_scott')]"
      ]
     },
     "execution_count": 10,
     "metadata": {},
     "output_type": "execute_result"
    }
   ],
   "source": [
    "from simplegraph import SimpleGraph\n",
    "movie_graph = SimpleGraph()\n",
    "movie_graph.add(('blade_runner','name','Blade Runner'))\n",
    "movie_graph.add(('blade_runner','directed_by','ridley_scott'))\n",
    "movie_graph.add(('ridley_scott','name','Ridley Scott'))\n",
    "list(movie_graph.triples(('blade_runner','directed_by',None)))"
   ]
  },
  {
   "cell_type": "code",
   "execution_count": 11,
   "metadata": {},
   "outputs": [
    {
     "data": {
      "text/plain": [
       "[('ridley_scott', 'name', 'Ridley Scott'),\n",
       " ('blade_runner', 'name', 'Blade Runner')]"
      ]
     },
     "execution_count": 11,
     "metadata": {},
     "output_type": "execute_result"
    }
   ],
   "source": [
    "list(movie_graph.triples((None,'name',None)))"
   ]
  },
  {
   "cell_type": "code",
   "execution_count": 13,
   "metadata": {},
   "outputs": [
    {
     "data": {
      "text/plain": [
       "'ridley_scott'"
      ]
     },
     "execution_count": 13,
     "metadata": {},
     "output_type": "execute_result"
    }
   ],
   "source": [
    "movie_graph.value('blade_runner','directed_by',None)"
   ]
  },
  {
   "cell_type": "code",
   "execution_count": 2,
   "metadata": {},
   "outputs": [
    {
     "data": {
      "text/plain": [
       "[u'Raiders of the Lost Ark',\n",
       " u'Indiana Jones and the Kingdom of the Crystal Skull',\n",
       " u'Indiana Jones and the Last Crusade',\n",
       " u'E.T. the Extra-Terrestrial',\n",
       " u'Indiana Jones and the Temple of Doom']"
      ]
     },
     "execution_count": 2,
     "metadata": {},
     "output_type": "execute_result"
    }
   ],
   "source": [
    "# Adding and Querying Movie Data\n",
    "# load data\n",
    "from simplegraph import SimpleGraph\n",
    "graph = SimpleGraph()\n",
    "graph.load(\"movies.csv\")\n",
    "\n",
    "# find the names of all the actors in  Blade Runner\n",
    "'''bladerunnerId = graph.value(None, \"name\", \"Blade Runner\")\n",
    "print bladerunnerId\n",
    "bladerunnerActorIds = [actorId for _, _, actorId in graph.triples((bladerunnerId, \"starring\", None))]\n",
    "print bladerunnerActorIds\n",
    "[graph.value(actorId, \"name\", None) for actorId in bladerunnerActorIds]'''\n",
    "\n",
    "# explore what other movies Harrison Ford has been in besides Blade Runner\n",
    "'''harrisonfordId = graph.value(None, \"name\", \"Harrison Ford\")\n",
    "[graph.value(movieId, \"name\", None) for movieId, _, _ in graph.triples((None, \"starring\", harrisonfordId))]'''\n",
    "\n",
    "spielbergId = graph.value(None, \"name\", \"Steven Spielberg\")\n",
    "spielbergMovieIds = set([movieId for movieId, _, _  in graph.triples((None, \"directed_by\", spielbergId))])\n",
    "harrisonfordId = graph.value(None, \"name\", \"Harrison Ford\")\n",
    "harrisonfordMovieIds = set([movieId for movieId, _, _  in graph.triples((None, \"starring\", harrisonfordId))])\n",
    "[graph.value(movieId, \"name\", None) for movieId in spielbergMovieIds.intersection(harrisonfordMovieIds)]"
   ]
  },
  {
   "cell_type": "code",
   "execution_count": 2,
   "metadata": {},
   "outputs": [
    {
     "ename": "IOError",
     "evalue": "[Errno 2] No such file or directory: 'place_triples.txt'",
     "output_type": "error",
     "traceback": [
      "\u001b[0;31m---------------------------------------------------------------------------\u001b[0m",
      "\u001b[0;31mIOError\u001b[0m                                   Traceback (most recent call last)",
      "\u001b[0;32m<ipython-input-2-33065682a295>\u001b[0m in \u001b[0;36m<module>\u001b[0;34m()\u001b[0m\n\u001b[1;32m      1\u001b[0m \u001b[0;32mfrom\u001b[0m \u001b[0msimplegraph\u001b[0m \u001b[0;32mimport\u001b[0m \u001b[0mSimpleGraph\u001b[0m\u001b[0;34m\u001b[0m\u001b[0m\n\u001b[1;32m      2\u001b[0m \u001b[0mplacegraph\u001b[0m\u001b[0;34m=\u001b[0m\u001b[0mSimpleGraph\u001b[0m\u001b[0;34m(\u001b[0m\u001b[0;34m)\u001b[0m\u001b[0;34m\u001b[0m\u001b[0m\n\u001b[0;32m----> 3\u001b[0;31m \u001b[0mplacegraph\u001b[0m\u001b[0;34m.\u001b[0m\u001b[0mload\u001b[0m\u001b[0;34m(\u001b[0m\u001b[0;34m\"place_triples.txt\"\u001b[0m\u001b[0;34m)\u001b[0m\u001b[0;34m\u001b[0m\u001b[0m\n\u001b[0m\u001b[1;32m      4\u001b[0m \u001b[0;32mfor\u001b[0m \u001b[0mt\u001b[0m \u001b[0;32min\u001b[0m \u001b[0mplacegraph\u001b[0m\u001b[0;34m.\u001b[0m\u001b[0mtriples\u001b[0m\u001b[0;34m(\u001b[0m\u001b[0;34m(\u001b[0m\u001b[0mNone\u001b[0m\u001b[0;34m,\u001b[0m\u001b[0;34m\"name\"\u001b[0m\u001b[0;34m,\u001b[0m\u001b[0;34m\"San Francisco\"\u001b[0m\u001b[0;34m)\u001b[0m\u001b[0;34m)\u001b[0m\u001b[0;34m:\u001b[0m\u001b[0;34m\u001b[0m\u001b[0m\n\u001b[1;32m      5\u001b[0m     \u001b[0;32mprint\u001b[0m \u001b[0mt\u001b[0m\u001b[0;34m\u001b[0m\u001b[0m\n",
      "\u001b[0;32m/home/xiaoyu/Documents/Year_1/Ontology/Semantic_Web/simplegraph.pyc\u001b[0m in \u001b[0;36mload\u001b[0;34m(self, filename)\u001b[0m\n\u001b[1;32m     52\u001b[0m     \u001b[0;31m# load the triples in the graph to comma-separated file\u001b[0m\u001b[0;34m\u001b[0m\u001b[0;34m\u001b[0m\u001b[0m\n\u001b[1;32m     53\u001b[0m     \u001b[0;32mdef\u001b[0m \u001b[0mload\u001b[0m\u001b[0;34m(\u001b[0m\u001b[0mself\u001b[0m\u001b[0;34m,\u001b[0m \u001b[0mfilename\u001b[0m\u001b[0;34m)\u001b[0m\u001b[0;34m:\u001b[0m\u001b[0;34m\u001b[0m\u001b[0m\n\u001b[0;32m---> 54\u001b[0;31m         \u001b[0mf\u001b[0m \u001b[0;34m=\u001b[0m \u001b[0mopen\u001b[0m\u001b[0;34m(\u001b[0m\u001b[0mfilename\u001b[0m\u001b[0;34m,\u001b[0m \u001b[0;34m\"rb\"\u001b[0m\u001b[0;34m)\u001b[0m\u001b[0;34m\u001b[0m\u001b[0m\n\u001b[0m\u001b[1;32m     55\u001b[0m         \u001b[0mreader\u001b[0m \u001b[0;34m=\u001b[0m \u001b[0mcsv\u001b[0m\u001b[0;34m.\u001b[0m\u001b[0mreader\u001b[0m\u001b[0;34m(\u001b[0m\u001b[0mf\u001b[0m\u001b[0;34m)\u001b[0m\u001b[0;34m\u001b[0m\u001b[0m\n\u001b[1;32m     56\u001b[0m         \u001b[0;32mfor\u001b[0m \u001b[0msub\u001b[0m\u001b[0;34m,\u001b[0m \u001b[0mpred\u001b[0m\u001b[0;34m,\u001b[0m \u001b[0mobj\u001b[0m \u001b[0;32min\u001b[0m \u001b[0mreader\u001b[0m\u001b[0;34m:\u001b[0m\u001b[0;34m\u001b[0m\u001b[0m\n",
      "\u001b[0;31mIOError\u001b[0m: [Errno 2] No such file or directory: 'place_triples.txt'"
     ]
    }
   ],
   "source": [
    "from simplegraph import SimpleGraph\n",
    "placegraph=SimpleGraph()\n",
    "placegraph.loadfile(\"place_triples.txt\")\n",
    "for t in placegraph.triples((None,\"name\",\"San Francisco\")): \n",
    "    print t\n"
   ]
  }
 ],
 "metadata": {
  "kernelspec": {
   "display_name": "Python 2",
   "language": "python",
   "name": "python2"
  },
  "language_info": {
   "codemirror_mode": {
    "name": "ipython",
    "version": 2
   },
   "file_extension": ".py",
   "mimetype": "text/x-python",
   "name": "python",
   "nbconvert_exporter": "python",
   "pygments_lexer": "ipython2",
   "version": "2.7.12"
  }
 },
 "nbformat": 4,
 "nbformat_minor": 2
}
