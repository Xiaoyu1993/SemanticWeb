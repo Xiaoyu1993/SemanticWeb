{
 "cells": [
  {
   "cell_type": "code",
   "execution_count": 10,
   "metadata": {},
   "outputs": [
    {
     "data": {
      "text/plain": [
       "[('blade_runner', 'directed_by', 'ridley_scott')]"
      ]
     },
     "execution_count": 10,
     "metadata": {},
     "output_type": "execute_result"
    }
   ],
   "source": [
    "from simplegraph import SimpleGraph\n",
    "movie_graph = SimpleGraph()\n",
    "movie_graph.add(('blade_runner','name','Blade Runner'))\n",
    "movie_graph.add(('blade_runner','directed_by','ridley_scott'))\n",
    "movie_graph.add(('ridley_scott','name','Ridley Scott'))\n",
    "list(movie_graph.triples(('blade_runner','directed_by',None)))"
   ]
  },
  {
   "cell_type": "code",
   "execution_count": 11,
   "metadata": {},
   "outputs": [
    {
     "data": {
      "text/plain": [
       "[('ridley_scott', 'name', 'Ridley Scott'),\n",
       " ('blade_runner', 'name', 'Blade Runner')]"
      ]
     },
     "execution_count": 11,
     "metadata": {},
     "output_type": "execute_result"
    }
   ],
   "source": [
    "list(movie_graph.triples((None,'name',None)))"
   ]
  },
  {
   "cell_type": "code",
   "execution_count": 13,
   "metadata": {},
   "outputs": [
    {
     "data": {
      "text/plain": [
       "'ridley_scott'"
      ]
     },
     "execution_count": 13,
     "metadata": {},
     "output_type": "execute_result"
    }
   ],
   "source": [
    "movie_graph.value('blade_runner','directed_by',None)"
   ]
  },
  {
   "cell_type": "code",
   "execution_count": 2,
   "metadata": {},
   "outputs": [
    {
     "data": {
      "text/plain": [
       "[u'Raiders of the Lost Ark',\n",
       " u'Indiana Jones and the Kingdom of the Crystal Skull',\n",
       " u'Indiana Jones and the Last Crusade',\n",
       " u'E.T. the Extra-Terrestrial',\n",
       " u'Indiana Jones and the Temple of Doom']"
      ]
     },
     "execution_count": 2,
     "metadata": {},
     "output_type": "execute_result"
    }
   ],
   "source": [
    "# Adding and Querying Movie Data\n",
    "# load data\n",
    "from simplegraph import SimpleGraph\n",
    "graph = SimpleGraph()\n",
    "graph.load(\"movies.csv\")\n",
    "\n",
    "# find the names of all the actors in  Blade Runner\n",
    "'''bladerunnerId = graph.value(None, \"name\", \"Blade Runner\")\n",
    "print bladerunnerId\n",
    "bladerunnerActorIds = [actorId for _, _, actorId in graph.triples((bladerunnerId, \"starring\", None))]\n",
    "print bladerunnerActorIds\n",
    "[graph.value(actorId, \"name\", None) for actorId in bladerunnerActorIds]'''\n",
    "\n",
    "# explore what other movies Harrison Ford has been in besides Blade Runner\n",
    "'''harrisonfordId = graph.value(None, \"name\", \"Harrison Ford\")\n",
    "[graph.value(movieId, \"name\", None) for movieId, _, _ in graph.triples((None, \"starring\", harrisonfordId))]'''\n",
    "\n",
    "spielbergId = graph.value(None, \"name\", \"Steven Spielberg\")\n",
    "spielbergMovieIds = set([movieId for movieId, _, _  in graph.triples((None, \"directed_by\", spielbergId))])\n",
    "harrisonfordId = graph.value(None, \"name\", \"Harrison Ford\")\n",
    "harrisonfordMovieIds = set([movieId for movieId, _, _  in graph.triples((None, \"starring\", harrisonfordId))])\n",
    "[graph.value(movieId, \"name\", None) for movieId in spielbergMovieIds.intersection(harrisonfordMovieIds)]"
   ]
  },
  {
   "cell_type": "code",
   "execution_count": 7,
   "metadata": {},
   "outputs": [
    {
     "name": "stdout",
     "output_type": "stream",
     "text": [
      "[u'Justin Timberlake', u'Jessica Biel']\n",
      "[u'Justin Timberlake', u'Jenna Dewan']\n",
      "[u'Justin Timberlake', u'Alyssa Milano']\n",
      "[u'Justin Timberlake', u'Cameron Diaz']\n",
      "[u'Justin Timberlake', u'Britney Spears']\n",
      "[u'Justin Timberlake', u'Jessica Biel']\n",
      "[u'Justin Timberlake', u'Jenna Dewan']\n",
      "[u'Justin Timberlake', u'Alyssa Milano']\n",
      "[u'Justin Timberlake', u'Cameron Diaz']\n",
      "[u'Justin Timberlake', u'Britney Spears']\n"
     ]
    },
    {
     "data": {
      "text/plain": [
       "{u'Aaron Carter',\n",
       " u'Adam Duritz',\n",
       " u'Adam Goldberg',\n",
       " u'Alyssa Milano',\n",
       " u'Amanda Peet',\n",
       " u'Angelina Jolie',\n",
       " u'Angie Everhart',\n",
       " u'Anthony Kiedis',\n",
       " u'Ashlee Simpson',\n",
       " u'Ben Affleck',\n",
       " u'Ben Lee',\n",
       " u'Ben Stiller',\n",
       " u'Beyonc\\xe9',\n",
       " u'Billy Crawford',\n",
       " u'Billy Crudup',\n",
       " u'Billy Zane',\n",
       " u'Blake Lively',\n",
       " u'Brad Pitt',\n",
       " u'Bret Michaels',\n",
       " u'Bridget Moynahan',\n",
       " u'Britney Spears',\n",
       " u'Britt Ekland',\n",
       " u'Brooke Burns',\n",
       " u'Bruce Willis',\n",
       " u'Calista Flockhart',\n",
       " u'Cameron Diaz',\n",
       " u'Candice Bergen',\n",
       " u'Carlos Leon',\n",
       " u'Catherine Deneuve',\n",
       " u'Chace Crawford',\n",
       " u'Charlie Sheen',\n",
       " u'Charlize Theron',\n",
       " u'Cher',\n",
       " u'Chris Isaak',\n",
       " u'Chris Noth',\n",
       " u'Chris Raab',\n",
       " u'Christian Slater',\n",
       " u'Christina Ricci',\n",
       " u'Claire Danes',\n",
       " u'Common',\n",
       " u'David Duchovny',\n",
       " u'Dax Shepard',\n",
       " u'Dennis Rodman',\n",
       " u'Diane Keaton',\n",
       " u'Elizabeth Daily',\n",
       " u'Elton John',\n",
       " u'Emma Thompson',\n",
       " u'Eva Mendes',\n",
       " u'Faye Dunaway',\n",
       " u'Frank Sinatra',\n",
       " u'Fred Durst',\n",
       " u'Gina Gershon',\n",
       " u'Gisele B\\xfcndchen',\n",
       " u'Gregory Smith',\n",
       " u'Gwen Stefani',\n",
       " u'Gwyneth Paltrow',\n",
       " u'Halle Berry',\n",
       " u'Hayden Panettiere',\n",
       " u'Heidi Klum',\n",
       " u'Helena Bonham Carter',\n",
       " u'Howard Stern',\n",
       " u'Hugh Dancy',\n",
       " u'Hugh Laurie',\n",
       " u'Isabelle Adjani',\n",
       " u'Jake Gyllenhaal',\n",
       " u'Jane Fonda',\n",
       " u'Janeane Garofalo',\n",
       " u'Jared Leto',\n",
       " u'Jason Behr',\n",
       " u'Jay-Z',\n",
       " u'Jeanne Tripplehorn',\n",
       " u'Jeffrey Dean Morgan',\n",
       " u'Jenna Dewan',\n",
       " u'Jennifer Aniston',\n",
       " u'Jennifer Garner',\n",
       " u'Jennifer Grey',\n",
       " u'Jennifer Lopez',\n",
       " u'Jennifer Love Hewitt',\n",
       " u'Jenny Lewis',\n",
       " u'Jenny Shimizu',\n",
       " u'Jerry Seinfeld',\n",
       " u'Jessica Biel',\n",
       " u'Jessica Simpson',\n",
       " u'Jill Schoelen',\n",
       " u'Joan Collins',\n",
       " u'Joaquin Phoenix',\n",
       " u'Joey Lawrence',\n",
       " u'John Anthony Gillis',\n",
       " u'John Cusack',\n",
       " u'Johnny Depp',\n",
       " u'Josh Henderson',\n",
       " u'Julie Christie',\n",
       " u'Juliette Lewis',\n",
       " u'Justin Timberlake',\n",
       " u'Karen McDougal',\n",
       " u'Kate Hudson',\n",
       " u'Katherine Heigl',\n",
       " u'Katie Couric',\n",
       " u'Keira Knightley',\n",
       " u'Kelly Preston',\n",
       " u'Kelly Slater',\n",
       " u'Kenneth Branagh',\n",
       " u'Kick Gurry',\n",
       " u'Kim Kardashian',\n",
       " u'Kirsten Dunst',\n",
       " u'Kristen Bell',\n",
       " u'Lance Armstrong',\n",
       " u'Lauren Conrad',\n",
       " u'Leisha Hailey',\n",
       " u'Leonardo DiCaprio',\n",
       " u'Leslie Caron',\n",
       " u'Lindsay Lohan',\n",
       " u'Liv Tyler',\n",
       " u'Luis Miguel',\n",
       " u'Luke Wilson',\n",
       " u'Madonna',\n",
       " u'Mandy Moore',\n",
       " u'Mariah Carey',\n",
       " u'Marilyn Monroe',\n",
       " u'Mark Wahlberg',\n",
       " u'Mary-Louise Parker',\n",
       " u'Matt Damon',\n",
       " u'Matt Dillon',\n",
       " u'Mia Farrow',\n",
       " u'Michael Vartan',\n",
       " u'Miley Cyrus',\n",
       " u'Milo Ventimiglia',\n",
       " u'Minnie Driver',\n",
       " u'Natalie Portman',\n",
       " u'Nicolas Cage',\n",
       " u'Nicole Kidman',\n",
       " u'Nicole Richie',\n",
       " u'Orlando Bloom',\n",
       " u'Owen Wilson',\n",
       " u'Pamela Anderson',\n",
       " u'Paris Hilton',\n",
       " u'Penn Badgley',\n",
       " u'Pen\\xe9lope Cruz',\n",
       " u'Ray J',\n",
       " u'Reese Witherspoon',\n",
       " u'Rick Salomon',\n",
       " u'Robert Downey Jr.',\n",
       " u'Robert Sean Leonard',\n",
       " u'Robin Givens',\n",
       " u'Rupert Friend',\n",
       " u'Ryan Phillippe',\n",
       " u'Ryan Seacrest',\n",
       " u'Sarah Jessica Parker',\n",
       " u'Sean Combs',\n",
       " u'Shar Jackson',\n",
       " u'Sherilyn Fenn',\n",
       " u'Sheryl Crow',\n",
       " u'Soon-Yi Previn',\n",
       " u'Stacey Nelkin',\n",
       " u'Stephan Jenkins',\n",
       " u'Stuart Townsend',\n",
       " u'Tate Donovan',\n",
       " u'Thandie Newton',\n",
       " u'Tom Cruise',\n",
       " u'Tyra Banks',\n",
       " u'Uma Thurman',\n",
       " u'Vanessa Anne Hudgens',\n",
       " u'Vanessa L. Williams',\n",
       " u'Vanilla Ice',\n",
       " u'Vince Vaughn',\n",
       " u'Warren Beatty',\n",
       " u'Wilmer Valderrama',\n",
       " u'Winona Ryder',\n",
       " u'Woody Allen',\n",
       " u'Zac Efron',\n",
       " u'Zach Braff',\n",
       " u'k.d. lang'}"
      ]
     },
     "execution_count": 7,
     "metadata": {},
     "output_type": "execute_result"
    }
   ],
   "source": [
    "# The Celebrities Dataset\n",
    "from simplegraph import SimpleGraph\n",
    "cg=SimpleGraph()\n",
    "cg.load('celeb_triples.csv')\n",
    "jt_relations=[t[0] for t in cg.triples((None,'with','Justin Timberlake'))]\n",
    "jt_relations # Justin Timberlake's relationships\n",
    "\n",
    "for rel in jt_relations:\n",
    "    print [t[2] for t in cg.triples((rel,'with',None))]\n",
    "    \n",
    "bs_movies=[t[2] for t in cg.triples(('Britney Spears','starred_in',None))]\n",
    "bs_movies # Britney Spears' movies\n",
    "\n",
    "movie_stars=set()\n",
    "for t in cg.triples((None,'starred_in',None)):\n",
    "    movie_stars.add(t[0])\n",
    "movie_stars # Anyone with a 'starred_in' assertion"
   ]
  }
 ],
 "metadata": {
  "kernelspec": {
   "display_name": "Python 2",
   "language": "python",
   "name": "python2"
  },
  "language_info": {
   "codemirror_mode": {
    "name": "ipython",
    "version": 2
   },
   "file_extension": ".py",
   "mimetype": "text/x-python",
   "name": "python",
   "nbconvert_exporter": "python",
   "pygments_lexer": "ipython2",
   "version": "2.7.12"
  }
 },
 "nbformat": 4,
 "nbformat_minor": 2
}
